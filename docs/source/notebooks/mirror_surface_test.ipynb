{
 "cells": [
  {
   "cell_type": "code",
   "execution_count": 5,
   "metadata": {},
   "outputs": [],
   "source": [
    "import numpy as np\n",
    "from matplotlib import pyplot as plt\n",
    "\n",
    "from wpg.optical_elements import Drift, Mirror_plane_2d\n",
    "from wpg.wpg_uti_oe import propagation_parameters\n",
    "from wpg.source import sase_pulse\n",
    "from midsim.source import analytical_pulse_divergence, analytical_pulse_width\n",
    "\n",
    "from wpg.beamline import Beamline"
   ]
  },
  {
   "cell_type": "code",
   "execution_count": 6,
   "metadata": {},
   "outputs": [],
   "source": [
    "M1 = Mirror_plane_2d('x', theta = 1.2e-03, length = 848.7e-03,range_xy=19.2e-3,filename = '/home/guestt/midsim/midsim/data/SA2_M1_HeightErr.txt', nx = 1024)\n",
    "M2 = Mirror_plane_2d('x', theta = 1.2e-03, length = 848.7e-03,range_xy=19.2e-3,filename = '/home/guestt/midsim/midsim/data/SA2_M1_HeightErr.txt', nx = 1024)"
   ]
  },
  {
   "cell_type": "code",
   "execution_count": 7,
   "metadata": {},
   "outputs": [],
   "source": [
    "from matplotlib.colors import LogNorm, Normalize\n",
    "\n",
    "def plot_wfr(wfr, logscale=False, title = None):\n",
    "    fig, ax = plt.subplots(1, 1, figsize=(4, 4))\n",
    "    \n",
    "    intensity = wfr.get_intensity().sum(-1)\n",
    "    \n",
    "    if logscale:\n",
    "        norm = LogNorm(vmin=intensity[intensity > 0].min(), vmax=intensity.max())\n",
    "    else:\n",
    "        norm = Normalize(vmin=intensity.min(), vmax=intensity.max())\n",
    "    \n",
    "    try:\n",
    "        extent =  [a*1e3 for a in [wfr.xMin, wfr.xMax, wfr.yMin, wfr.yMax]]\n",
    "        \n",
    "    except(TypeError):\n",
    "        extent =  [a*1e3 for a in [wfr.qxMin, wfr.qxMax, wfr.qyMin, wfr.qyMax]]\n",
    "\n",
    "    im = ax.imshow(intensity,\n",
    "                   extent=extent,\n",
    "                   cmap='afmhot',\n",
    "                   norm=norm)\n",
    "    \n",
    "    ax.set_xlabel('x (mm)')\n",
    "    ax.set_xlabel('y (mm)')\n",
    "    \n",
    "    if title:\n",
    "        ax.set_title(title)\n",
    "    fig.colorbar(im, ax=ax, orientation='vertical')\n"
   ]
  },
  {
   "cell_type": "code",
   "execution_count": 18,
   "metadata": {},
   "outputs": [
    {
     "data": {
      "image/png": "[encoded data removed]",
      "text/plain": [
       "<Figure size 400x400 with 2 Axes>"
      ]
     },
     "metadata": {},
     "output_type": "display_data"
    }
   ],
   "source": [
    "x = y = np.linspace(-500e-06, 500e-06, 512)\n",
    "t = np.linspace(-50e-15, 50e-15, 2)\n",
    "\n",
    "theta_y = 0\n",
    "photon_energy = 10e3\n",
    "\n",
    "\n",
    "theta_x = 0\n",
    "\n",
    "wfr = sase_pulse(x=x,\n",
    "                        y=y,\n",
    "                        t=t,\n",
    "                        photon_energy=photon_energy,\n",
    "                        pulse_energy=1e-03,\n",
    "                        pulse_duration=15e-15,\n",
    "                        bandwidth=1e-12,\n",
    "                        sigma=analytical_pulse_width(photon_energy),\n",
    "                        div=analytical_pulse_divergence(photon_energy),\n",
    "                        x0=0.0,\n",
    "                        y0=0.0,\n",
    "                        t0=0.0,\n",
    "                        theta_x=theta_x,\n",
    "                        theta_y=0.0,\n",
    "                        domain='freq',\n",
    "                        polarization = 'horizontal')\n",
    "\n",
    "\n",
    "\n",
    "bl = Beamline()\n",
    "bl.append(Drift(290), propagation_parameters(3,1,3,1,mode = 'fresnel'))\n",
    "bl.append(M1, propagation_parameters(1,1,1,1, mode = 'fresnel'))\n",
    "\n",
    "bl.append(Drift(11), propagation_parameters(1,1,1,1,mode = 'fresnel'))\n",
    "bl.append(M2, propagation_parameters(1,1,1,1, mode = 'fresnel'))\n",
    "bl.append(Drift(90), propagation_parameters(1,1,1,1,mode = 'fresnel'))\n",
    "bl.propagate(wfr)\n",
    "\n",
    "plot_wfr(wfr, title = \"@ M2\")"
   ]
  },
  {
   "cell_type": "code",
   "execution_count": null,
   "metadata": {},
   "outputs": [
    {
     "ename": "AttributeError",
     "evalue": "'SRWLRadMesh' object has no attribute 'a'",
     "output_type": "error",
     "traceback": [
      "\u001b[0;31m---------------------------------------------------------------------------\u001b[0m",
      "\u001b[0;31mAttributeError\u001b[0m                            Traceback (most recent call last)",
      "Cell \u001b[0;32mIn[78], line 1\u001b[0m\n\u001b[0;32m----> 1\u001b[0m \u001b[43mT\u001b[49m\u001b[38;5;241;43m.\u001b[39;49m\u001b[43mmesh\u001b[49m\u001b[38;5;241;43m.\u001b[39;49m\u001b[43ma\u001b[49m\n",
      "\u001b[0;31mAttributeError\u001b[0m: 'SRWLRadMesh' object has no attribute 'a'"
     ]
    }
   ],
   "source": [
    "T.mesh.a"
   ]
  },
  {
   "cell_type": "code",
   "execution_count": null,
   "metadata": {},
   "outputs": [],
   "source": []
  },
  {
   "cell_type": "code",
   "execution_count": null,
   "metadata": {},
   "outputs": [],
   "source": []
  }
 ],
 "metadata": {
  "kernelspec": {
   "display_name": "mid",
   "language": "python",
   "name": "python3"
  },
  "language_info": {
   "codemirror_mode": {
    "name": "ipython",
    "version": 3
   },
   "file_extension": ".py",
   "mimetype": "text/x-python",
   "name": "python",
   "nbconvert_exporter": "python",
   "pygments_lexer": "ipython3",
   "version": "3.12.2"
  }
 },
 "nbformat": 4,
 "nbformat_minor": 2
}
