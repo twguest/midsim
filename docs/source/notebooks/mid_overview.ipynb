{
 "cells": [
  {
   "cell_type": "markdown",
   "metadata": {},
   "source": [
    "# Optics Configuration Table\n",
    "\n",
    "## System Components\n",
    "\n",
    "| Component                      | Z Position (meters)  | Notes                               |\n",
    "|--------------------------------|----------------------|-------------------------------------|\n",
    "| **CRLs (Compound Refractive Lenses)** |                     |                                     |\n",
    "| CRL1                           | 229                  | See Table 1 for actuator configuration |\n",
    "| CRL2                           | 931                  | See Table 3 for actuator configuration |\n",
    "| **Horizontal Offset Mirrors**  |                      |                                     |\n",
    "| M1                             | 290                  | -                                   |\n",
    "| M2                             | 301                  | -                                   |\n",
    "| **Monochromators**             |                      |                                     |\n",
    "| Silicon 111 Monochromator      | 929                  | Bandwidth: 1.3 x 10^-4              |\n",
    "| Silicon 220 Monochromator      | 946                  | Bandwidth: 5.9 x 10^-5              |\n",
    "| **Other Components**           |                      |                                     |\n",
    "| Optics Hutch Start             | 950                  | -                                   |\n",
    "| Focal Position                 | 959                  | -                                   |\n",
    "| Diagnostics End Station        | 969                  | -                                   |\n",
    "| **Detectors**                  |                      |                                     |\n",
    "| AGIP Detector                  | 3 to 8 meters from focus | -                               |\n",
    "| LFOV Arrangement Sample Position | Minimum 0.2 meters | -                                 |\n",
    "| SAX Arrangement                | 3 to 8 meters from focus | -                               |\n",
    "| WAX Arrangement                | 3 to 8 meters from focus | Two theta: 14 degrees to 55 degrees |\n",
    "| **Split and Delay Line**       |                      |                                     |\n",
    "| Split and Delay Line           | -                    | -                                   |\n",
    "\n"
   ]
  },
  {
   "cell_type": "markdown",
   "metadata": {},
   "source": [
    "## Table 1\n",
    "**Configuration of the actuators of CRL-1 at 229 m.**\n",
    "\n",
    "| Actuator | 1      | 2        | 3        | 4        | 5        |\n",
    "|----------|--------|----------|----------|----------|----------|\n",
    "| Lenses (N, R) (mm) | Empty | (1, 5.8)  | (1, 4.9)  | (1, 4.0)  | (1, 3.3)  |\n",
    "| N/R (mm^-1)       | -      | 0.172    | 0.204    | 0.25     | 0.303    |\n",
    "\n",
    "| Actuator | 6        | 7        | 8        | 9        | 10      |\n",
    "|----------|----------|----------|----------|----------|----------|\n",
    "| Lenses (N, R) (mm) | (2, 5.8)  | (3, 4.0)  | (7, 4.0)  | (7, 2.0)  | Empty   |\n",
    "| N/R (mm^-1)       | 0.345    | 0.75     | 1.75     | 3.5      | -       |\n",
    "\n",
    "## Table 2\n",
    "**Parameters of ACCM monochromators.**\n",
    "\n",
    "| ACCM type | \\( h \\) (mm) | \\( E = 5 \\) keV \\(\\theta_B (°)\\) | \\( \\Delta y \\) (mm) | \\( E = 25 \\) keV \\(\\theta_B (°)\\) | \\( \\Delta y \\) (mm) |\n",
    "|-----------|--------------|-----------------------------------|---------------------|-----------------------------------|---------------------|\n",
    "| Si(111)   | 5.5          | 23.3                              | 10.1                | 4.5                               | 11.0                |\n",
    "| Si(220)   | 7.8          | 40.2                              | 11.9                | 7.4                               | 15.5                |\n",
    "\n",
    "## Table 3\n",
    "**Configuration of the actuators of CRL-2 at 931 m.**\n",
    "\n",
    "| Actuator | 1        | 2        | 3        | 4        | 5        |\n",
    "|----------|----------|----------|----------|----------|----------|\n",
    "| Lenses (N, R) (mm) | None     | (1, 5.8)  | (2, 5.8)  | (4, 5.8)  | (7, 5.8)  |\n",
    "| N/R (mm^-1)       | None     | 0.172    | 0.345    | 0.689    | 1.21     |\n",
    "\n",
    "| Actuator | 6        | 7        | 8        | 9        | 10      |\n",
    "|----------|----------|----------|----------|----------|----------|\n",
    "| Lenses (N, R) (mm) | (10, 4.0) | (10, 2.0) | (10, 1.0) | (10, 0.5) | None    |\n",
    "| N/R (mm^-1)       | 2.5      | 5        | 10       | 20       | None    |\n"
   ]
  },
  {
   "cell_type": "markdown",
   "metadata": {},
   "source": []
  }
 ],
 "metadata": {
  "language_info": {
   "name": "python"
  }
 },
 "nbformat": 4,
 "nbformat_minor": 2
}
